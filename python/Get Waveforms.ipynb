{
 "cells": [
  {
   "cell_type": "code",
   "execution_count": 1,
   "metadata": {},
   "outputs": [
    {
     "name": "stdout",
     "output_type": "stream",
     "text": [
      "Collecting lalsuite\n",
      "\u001b[?25l  Downloading https://files.pythonhosted.org/packages/b1/d9/1aabb9a07e77d1378982f6f66316ad06f5c6df28f303176e8854563520bc/lalsuite-6.48.1.dev20180601-cp27-cp27mu-manylinux1_x86_64.whl (20.8MB)\n",
      "\u001b[K    100% |████████████████████████████████| 20.8MB 45kB/s eta 0:00:011\n",
      "\u001b[?25hCollecting pycbc\n",
      "\u001b[?25l  Downloading https://files.pythonhosted.org/packages/55/f4/08029a63c8f33880c818e818ef8936a06b0dcfdfcd6825d712356deb628b/PyCBC-1.10.1.tar.gz (3.0MB)\n",
      "\u001b[K    100% |████████████████████████████████| 3.0MB 3.0MB/s eta 0:00:01\n",
      "\u001b[?25hRequirement already satisfied: numpy>=1.7 in /home/nbuser/anaconda2_501/lib/python2.7/site-packages (from lalsuite) (1.14.3)\n",
      "Collecting Mako>=1.0.1 (from pycbc)\n",
      "\u001b[?25l  Downloading https://files.pythonhosted.org/packages/eb/f3/67579bb486517c0d49547f9697e36582cd19dafb5df9e687ed8e22de57fa/Mako-1.0.7.tar.gz (564kB)\n",
      "\u001b[K    100% |████████████████████████████████| 573kB 4.3MB/s ta 0:00:011\n",
      "\u001b[?25hCollecting argparse>=1.3.0 (from pycbc)\n",
      "  Downloading https://files.pythonhosted.org/packages/f2/94/3af39d34be01a24a6e65433d19e107099374224905f1e0cc6bbe1fd22a2f/argparse-1.4.0-py2.py3-none-any.whl\n",
      "Requirement already satisfied: decorator>=3.4.2 in /home/nbuser/anaconda2_501/lib/python2.7/site-packages (from pycbc) (4.1.2)\n",
      "Requirement already satisfied: scipy>=0.16.0 in /home/nbuser/anaconda2_501/lib/python2.7/site-packages (from pycbc) (0.19.0)\n",
      "Collecting weave>=0.16.0 (from pycbc)\n",
      "\u001b[?25l  Downloading https://files.pythonhosted.org/packages/2d/e5/2be2ab42f601ac97b397f97a1d487eeaee06f5760eea7753c22a85803541/weave-0.16.0.tar.gz (573kB)\n",
      "\u001b[K    100% |████████████████████████████████| 573kB 5.8MB/s eta 0:00:01\n",
      "\u001b[?25hCollecting unittest2 (from pycbc)\n",
      "\u001b[?25l  Downloading https://files.pythonhosted.org/packages/72/20/7f0f433060a962200b7272b8c12ba90ef5b903e218174301d0abfd523813/unittest2-1.1.0-py2.py3-none-any.whl (96kB)\n",
      "\u001b[K    100% |████████████████████████████████| 102kB 5.1MB/s a 0:00:011\n",
      "\u001b[?25hRequirement already satisfied: matplotlib>=1.5.1 in /home/nbuser/anaconda2_501/lib/python2.7/site-packages (from pycbc) (2.1.0)\n",
      "Requirement already satisfied: pillow in /home/nbuser/anaconda2_501/lib/python2.7/site-packages (from pycbc) (4.3.0)\n",
      "Requirement already satisfied: h5py>=2.5 in /home/nbuser/anaconda2_501/lib/python2.7/site-packages (from pycbc) (2.7.0)\n",
      "Requirement already satisfied: jinja2 in /home/nbuser/anaconda2_501/lib/python2.7/site-packages (from pycbc) (2.9.6)\n",
      "Collecting astropy>=2.0.3 (from pycbc)\n",
      "\u001b[?25l  Downloading https://files.pythonhosted.org/packages/df/1c/5d308cae09a74bbbf91120b9544d4636ec195ae75bd2fcdce3a486435aa9/astropy-2.0.7-cp27-cp27mu-manylinux1_x86_64.whl (6.1MB)\n",
      "\u001b[K    100% |████████████████████████████████| 6.1MB 391kB/s ta 0:00:011\n",
      "\u001b[?25hCollecting mpld3>=0.3 (from pycbc)\n",
      "\u001b[?25l  Downloading https://files.pythonhosted.org/packages/91/95/a52d3a83d0a29ba0d6898f6727e9858fe7a43f6c2ce81a5fe7e05f0f4912/mpld3-0.3.tar.gz (788kB)\n",
      "\u001b[K    100% |████████████████████████████████| 798kB 4.6MB/s eta 0:00:01\n",
      "\u001b[?25hCollecting pyRXP>=2.1.0 (from pycbc)\n",
      "\u001b[?25l  Downloading https://files.pythonhosted.org/packages/5b/56/d7d6841b0fc0e4461946a8368d7d5cc4314bae3bed177ca9aadd0538918c/pyRXP-2.1.0.tar.gz (251kB)\n",
      "\u001b[K    100% |████████████████████████████████| 256kB 8.1MB/s eta 0:00:01\n",
      "\u001b[?25hCollecting lscsoft-glue>=1.58.2 (from pycbc)\n",
      "\u001b[?25l  Downloading https://files.pythonhosted.org/packages/90/c6/52163721a08d964ae5c057b2f29a76210eb4fdd5daefe3ed5d14ea515714/lscsoft-glue-1.58.2.tar.gz (2.5MB)\n",
      "\u001b[K    100% |████████████████████████████████| 2.5MB 4.0MB/s eta 0:00:01\n",
      "\u001b[?25hCollecting kombine>=0.8.2 (from pycbc)\n",
      "  Downloading https://files.pythonhosted.org/packages/ce/70/d7eff8255247dd56b89f6547067ad418c10f71e796968f6208adbb68e032/kombine-0.8.3-py2.py3-none-any.whl\n",
      "Collecting emcee==2.2.1 (from pycbc)\n",
      "  Downloading https://files.pythonhosted.org/packages/3f/d3/7635106605dedccd08705beac53be4c43a8da1caad6be667adbf93ed0965/emcee-2.2.1.tar.gz\n",
      "Collecting corner>=2.0.1 (from pycbc)\n",
      "  Downloading https://files.pythonhosted.org/packages/65/af/a7ba022f2d5787f51db91b5550cbe8e8c40a6eebd8f15119e743a09a9c19/corner-2.0.1.tar.gz\n",
      "Requirement already satisfied: requests>=1.2.1 in /home/nbuser/anaconda2_501/lib/python2.7/site-packages (from pycbc) (2.18.4)\n",
      "Requirement already satisfied: beautifulsoup4>=4.6.0 in /home/nbuser/anaconda2_501/lib/python2.7/site-packages (from pycbc) (4.6.0)\n",
      "Requirement already satisfied: six>=1.10.0 in /home/nbuser/anaconda2_501/lib/python2.7/site-packages (from pycbc) (1.11.0)\n",
      "Requirement already satisfied: MarkupSafe>=0.9.2 in /home/nbuser/anaconda2_501/lib/python2.7/site-packages (from Mako>=1.0.1->pycbc) (1.0)\n",
      "Collecting traceback2 (from unittest2->pycbc)\n",
      "  Downloading https://files.pythonhosted.org/packages/17/0a/6ac05a3723017a967193456a2efa0aa9ac4b51456891af1e2353bb9de21e/traceback2-1.4.0-py2.py3-none-any.whl\n",
      "Requirement already satisfied: python-dateutil>=2.0 in /home/nbuser/anaconda2_501/lib/python2.7/site-packages (from matplotlib>=1.5.1->pycbc) (2.6.1)\n",
      "Requirement already satisfied: backports.functools_lru_cache in /home/nbuser/anaconda2_501/lib/python2.7/site-packages (from matplotlib>=1.5.1->pycbc) (1.4)\n",
      "Requirement already satisfied: subprocess32 in /home/nbuser/anaconda2_501/lib/python2.7/site-packages (from matplotlib>=1.5.1->pycbc) (3.2.7)\n",
      "Requirement already satisfied: pytz in /home/nbuser/anaconda2_501/lib/python2.7/site-packages (from matplotlib>=1.5.1->pycbc) (2017.2)\n",
      "Requirement already satisfied: cycler>=0.10 in /home/nbuser/anaconda2_501/lib/python2.7/site-packages (from matplotlib>=1.5.1->pycbc) (0.10.0)\n",
      "Requirement already satisfied: pyparsing!=2.0.4,!=2.1.2,!=2.1.6,>=2.0.1 in /home/nbuser/anaconda2_501/lib/python2.7/site-packages (from matplotlib>=1.5.1->pycbc) (2.2.0)\n",
      "Requirement already satisfied: olefile in /home/nbuser/anaconda2_501/lib/python2.7/site-packages (from pillow->pycbc) (0.44)\n",
      "Requirement already satisfied: pytest>=2.8 in /home/nbuser/anaconda2_501/lib/python2.7/site-packages (from astropy>=2.0.3->pycbc) (3.2.1)\n",
      "Requirement already satisfied: pyOpenSSL in /home/nbuser/anaconda2_501/lib/python2.7/site-packages (from lscsoft-glue>=1.58.2->pycbc) (17.2.0)\n",
      "Requirement already satisfied: chardet<3.1.0,>=3.0.2 in /home/nbuser/anaconda2_501/lib/python2.7/site-packages (from requests>=1.2.1->pycbc) (3.0.4)\n",
      "Requirement already satisfied: idna<2.7,>=2.5 in /home/nbuser/anaconda2_501/lib/python2.7/site-packages (from requests>=1.2.1->pycbc) (2.6)\n",
      "Requirement already satisfied: urllib3<1.23,>=1.21.1 in /home/nbuser/anaconda2_501/lib/python2.7/site-packages (from requests>=1.2.1->pycbc) (1.22)\n",
      "Requirement already satisfied: certifi>=2017.4.17 in /home/nbuser/anaconda2_501/lib/python2.7/site-packages (from requests>=1.2.1->pycbc) (2017.7.27.1)\n",
      "Collecting linecache2 (from traceback2->unittest2->pycbc)\n",
      "  Downloading https://files.pythonhosted.org/packages/c7/a3/c5da2a44c85bfbb6eebcfc1dde24933f8704441b98fdde6528f4831757a6/linecache2-1.0.0-py2.py3-none-any.whl\n",
      "Requirement already satisfied: py>=1.4.33 in /home/nbuser/anaconda2_501/lib/python2.7/site-packages (from pytest>=2.8->astropy>=2.0.3->pycbc) (1.4.34)\n",
      "Requirement already satisfied: setuptools in /home/nbuser/anaconda2_501/lib/python2.7/site-packages (from pytest>=2.8->astropy>=2.0.3->pycbc) (39.1.0)\n",
      "Requirement already satisfied: cryptography>=1.9 in /home/nbuser/anaconda2_501/lib/python2.7/site-packages (from pyOpenSSL->lscsoft-glue>=1.58.2->pycbc) (2.0.3)\n",
      "Requirement already satisfied: asn1crypto>=0.21.0 in /home/nbuser/anaconda2_501/lib/python2.7/site-packages (from cryptography>=1.9->pyOpenSSL->lscsoft-glue>=1.58.2->pycbc) (0.22.0)\n",
      "Requirement already satisfied: enum34 in /home/nbuser/anaconda2_501/lib/python2.7/site-packages (from cryptography>=1.9->pyOpenSSL->lscsoft-glue>=1.58.2->pycbc) (1.1.6)\n",
      "Requirement already satisfied: ipaddress in /home/nbuser/anaconda2_501/lib/python2.7/site-packages (from cryptography>=1.9->pyOpenSSL->lscsoft-glue>=1.58.2->pycbc) (1.0.18)\n",
      "Requirement already satisfied: cffi>=1.7 in /home/nbuser/anaconda2_501/lib/python2.7/site-packages (from cryptography>=1.9->pyOpenSSL->lscsoft-glue>=1.58.2->pycbc) (1.10.0)\n",
      "Requirement already satisfied: pycparser in /home/nbuser/anaconda2_501/lib/python2.7/site-packages (from cffi>=1.7->cryptography>=1.9->pyOpenSSL->lscsoft-glue>=1.58.2->pycbc) (2.18)\n"
     ]
    },
    {
     "name": "stdout",
     "output_type": "stream",
     "text": [
      "Building wheels for collected packages: pycbc, Mako, weave, mpld3, pyRXP, lscsoft-glue, emcee, corner\n",
      "  Running setup.py bdist_wheel for pycbc ... \u001b[?25ldone\n",
      "\u001b[?25h  Stored in directory: /home/nbuser/.cache/pip/wheels/3e/da/17/8dbbf1133b9daa760e7f5d22e9693ec00ad1fdc1a2e117c835\n",
      "  Running setup.py bdist_wheel for Mako ... \u001b[?25ldone\n",
      "\u001b[?25h  Stored in directory: /home/nbuser/.cache/pip/wheels/15/35/25/dbcb848832ccb1a4b4ad23f529badfd3bce9bf88017f7ca510\n",
      "  Running setup.py bdist_wheel for weave ... \u001b[?25ldone\n",
      "\u001b[?25h  Stored in directory: /home/nbuser/.cache/pip/wheels/8b/b7/53/287a0ab1034dd211f826411dd59f41de1b5ba00aec8cf6e4c7\n",
      "  Running setup.py bdist_wheel for mpld3 ... \u001b[?25ldone\n",
      "\u001b[?25h  Stored in directory: /home/nbuser/.cache/pip/wheels/c0/47/fb/8a64f89aecfe0059830479308ad42d62e898a3e3cefdf6ba28\n",
      "  Running setup.py bdist_wheel for pyRXP ... \u001b[?25ldone\n",
      "\u001b[?25h  Stored in directory: /home/nbuser/.cache/pip/wheels/ff/71/94/db97dc250e9935c590f96650cd4b8c4411c82086f0fa5828ac\n",
      "  Running setup.py bdist_wheel for lscsoft-glue ... \u001b[?25ldone\n",
      "\u001b[?25h  Stored in directory: /home/nbuser/.cache/pip/wheels/e7/3c/18/9712983fce758218947efe2bec1f2cf6cec3bb0af085116403\n",
      "  Running setup.py bdist_wheel for emcee ... \u001b[?25ldone\n",
      "\u001b[?25h  Stored in directory: /home/nbuser/.cache/pip/wheels/2f/5d/a5/78f84e23329ad7d9b1787c9d24371100cae74cdefe25eba50d\n",
      "  Running setup.py bdist_wheel for corner ... \u001b[?25ldone\n",
      "\u001b[?25h  Stored in directory: /home/nbuser/.cache/pip/wheels/70/d8/e5/e0e7974a2a5757483ea5a180c937041cf6872dc9993d78234a\n",
      "Successfully built pycbc Mako weave mpld3 pyRXP lscsoft-glue emcee corner\n",
      "\u001b[31mfastlmm 0.2.32 requires dill, which is not installed.\u001b[0m\n",
      "\u001b[31mgrpcio 1.11.0 has requirement protobuf>=3.5.0.post1, but you'll have protobuf 3.4.1 which is incompatible.\u001b[0m\n",
      "Installing collected packages: lalsuite, Mako, argparse, weave, linecache2, traceback2, unittest2, astropy, mpld3, pyRXP, lscsoft-glue, kombine, emcee, corner, pycbc\n",
      "  Found existing installation: astropy 2.0.2\n",
      "    Uninstalling astropy-2.0.2:\n",
      "      Successfully uninstalled astropy-2.0.2\n",
      "Successfully installed Mako-1.0.7 argparse-1.4.0 astropy-2.0.7 corner-2.0.1 emcee-2.2.1 kombine-0.8.3 lalsuite-6.48.1.dev20180601 linecache2-1.0.0 lscsoft-glue-1.58.2 mpld3-0.3 pyRXP-2.1.0 pycbc-1.10.1 traceback2-1.4.0 unittest2-1.1.0 weave-0.16.0\n"
     ]
    }
   ],
   "source": [
    "!pip install lalsuite pycbc"
   ]
  },
  {
   "cell_type": "code",
   "execution_count": 15,
   "metadata": {},
   "outputs": [],
   "source": [
    "import numpy as np\n",
    "import json"
   ]
  },
  {
   "cell_type": "code",
   "execution_count": 3,
   "metadata": {},
   "outputs": [
    {
     "name": "stdout",
     "output_type": "stream",
     "text": [
      "  % Total    % Received % Xferd  Average Speed   Time    Time     Time  Current\n",
      "                                 Dload  Upload   Total   Spent    Left  Speed\n",
      "100 16687  100 16687    0     0  16687      0  0:00:01 --:--:--  0:00:01 71311\n"
     ]
    }
   ],
   "source": [
    "!curl -O http://chrisnorth.github.io/plotgw/json/events.json"
   ]
  },
  {
   "cell_type": "code",
   "execution_count": 7,
   "metadata": {},
   "outputs": [],
   "source": [
    "filein=json.load(open('events.json'))"
   ]
  },
  {
   "cell_type": "code",
   "execution_count": 50,
   "metadata": {},
   "outputs": [],
   "source": [
    "datain=filein['data']\n",
    "wfs={}\n",
    "for d in datain:\n",
    "    wfs[d]={}\n",
    "    if 'best' in datain[d]['M1']:\n",
    "        wfs[d][\"M1\"]=datain[d]['M1']['best']\n",
    "    elif 'lim' in datain[d]['M1']:\n",
    "        lims=datain[d]['M1']['lim']\n",
    "        wfs[d]['M1']=0.5*(lims[0]+lims[1])\n",
    "    if 'best' in datain[d]['M2']:\n",
    "        wfs[d][\"M2\"]=datain[d]['M2']['best']\n",
    "    elif 'lim' in datain[d]['M2']:\n",
    "        lims=datain[d]['M2']['lim']\n",
    "        wfs[d]['M2']=0.5*(lims[0]+lims[1])\n",
    "    if 'best' in datain[d]['DL']:\n",
    "        wfs[d][\"DL\"]=datain[d]['DL']['best']\n",
    "    "
   ]
  },
  {
   "cell_type": "code",
   "execution_count": 55,
   "metadata": {
    "scrolled": false
   },
   "outputs": [
    {
     "data": {
      "text/plain": [
       "{u'GW150914': {'DL': 420, 'M1': 36.2, 'M2': 29.1},\n",
       " u'GW151226': {'DL': 440, 'M1': 14.2, 'M2': 7.5},\n",
       " u'GW170104': {'DL': 880, 'M1': 31.2, 'M2': 19.4},\n",
       " u'GW170608': {'DL': 340, 'M1': 12, 'M2': 7},\n",
       " u'GW170814': {'DL': 540, 'M1': 30.5, 'M2': 25.3},\n",
       " u'GW170817': {'DL': 40, 'M1': 1.48, 'M2': 1.2650000000000001},\n",
       " u'LVT151012': {'DL': 1000, 'M1': 23, 'M2': 13}}"
      ]
     },
     "execution_count": 55,
     "metadata": {},
     "output_type": "execute_result"
    }
   ],
   "source": [
    "wfs"
   ]
  },
  {
   "cell_type": "code",
   "execution_count": 120,
   "metadata": {},
   "outputs": [
    {
     "name": "stdout",
     "output_type": "stream",
     "text": [
      "processing LVT151012: 23 + 13 (1000 MPc)\n",
      "processing GW170608: 12 + 7 (340 MPc)\n",
      "processing GW150914: 36.2 + 29.1 (420 MPc)\n",
      "processing GW170814: 30.5 + 25.3 (540 MPc)\n",
      "processing GW170817: 1.48 + 1.265 (40 MPc)\n",
      "processing GW170104: 31.2 + 19.4 (880 MPc)\n",
      "processing GW151226: 14.2 + 7.5 (440 MPc)\n"
     ]
    }
   ],
   "source": [
    "from pycbc.waveform import get_td_waveform\n",
    "from astropy.table import Table\n",
    "for d in wfs:\n",
    "    print('processing {}: {} + {} ({} MPc)'.format(d,wfs[d]['M1'],wfs[d]['M2'],wfs[d]['DL']))\n",
    "    m1=wfs[d]['M1']\n",
    "    m2=wfs[d]['M2']\n",
    "#     if m1 > 5 and m2 > 5:\n",
    "#         tres=1.0/4096\n",
    "#     else:\n",
    "#         tres=1.0\n",
    "#     if tres < 1.0:\n",
    "    hp,hc = get_td_waveform(approximant=\"SEOBNRv3_opt_rk4\",\n",
    "                     mass1=wfs[d]['M1'],\n",
    "                     mass2=wfs[d]['M2'],\n",
    "                     delta_t=1.0/4096,\n",
    "                     f_lower=30,\n",
    "                     distance=wfs[d]['DL'])\n",
    "    t= hp.sample_times\n",
    "    wfs[d]['data']=Table({'t':t,'hp':hp,'hc':hc})\n",
    "# d2=\"GW151226\"\n",
    "# hp2, hc2 = get_td_waveform(approximant=\"SEOBNRv4_opt\",\n",
    "#                          mass1=wfs[d2]['M1'],\n",
    "#                          mass2=wfs[d2]['M2'],\n",
    "#                          delta_t=1.0/4096,\n",
    "#                          f_lower=30)"
   ]
  },
  {
   "cell_type": "code",
   "execution_count": 45,
   "metadata": {
    "scrolled": true
   },
   "outputs": [
    {
     "name": "stdout",
     "output_type": "stream",
     "text": [
      "Help on function get_td_waveform in module pycbc.waveform.waveform:\n",
      "\n",
      "get_td_waveform(template=None, **kwargs)\n",
      "    Return the plus and cross polarizations of a time domain waveform.\n",
      "    \n",
      "    Parameters\n",
      "    ----------\n",
      "    template: object\n",
      "        An object that has attached properties. This can be used to subsitute\n",
      "        for keyword arguments. A common example would be a row in an xml table.\n",
      "    mass1 : {None, float}\n",
      "        The mass of the first component object in the binary (in solar masses).\n",
      "    mass2 : {None, float}\n",
      "        The mass of the second component object in the binary (in solar masses).\n",
      "    spin1x : {0.0, float}\n",
      "        The x component of the first binary component's dimensionless spin.\n",
      "    spin1y : {0.0, float}\n",
      "        The y component of the first binary component's dimensionless spin.\n",
      "    spin1z : {0.0, float}\n",
      "        The z component of the first binary component's dimensionless spin.\n",
      "    spin2x : {0.0, float}\n",
      "        The x component of the second binary component's dimensionless spin.\n",
      "    spin2y : {0.0, float}\n",
      "        The y component of the second binary component's dimensionless spin.\n",
      "    spin2z : {0.0, float}\n",
      "        The z component of the second binary component's dimensionless spin.\n",
      "    eccentricity : {0.0, float}\n",
      "        Eccentricity.\n",
      "    lambda1 : {None, float}\n",
      "        The dimensionless tidal deformability parameter of object 1.\n",
      "    lambda2 : {None, float}\n",
      "        The dimensionless tidal deformability parameter of object 2.\n",
      "    dquad_mon1 : {None, float}\n",
      "        Quadrupole-monopole parameter / m_1^5 -1.\n",
      "    dquad_mon2 : {None, float}\n",
      "        Quadrupole-monopole parameter / m_2^5 -1.\n",
      "    lambda_octu1 : {None, float}\n",
      "        The octupolar tidal deformability parameter of object 1.\n",
      "    lambda_octu2 : {None, float}\n",
      "        The octupolar tidal deformability parameter of object 2.\n",
      "    quadfmode1 : {None, float}\n",
      "        The quadrupolar f-mode angular frequency of object 1.\n",
      "    quadfmode2 : {None, float}\n",
      "        The quadrupolar f-mode angular frequency of object 2.\n",
      "    octufmode1 : {None, float}\n",
      "        The octupolar f-mode angular frequency of object 1.\n",
      "    octufmode2 : {None, float}\n",
      "        The octupolar f-mode angular frequency of object 2.\n",
      "    distance : {1.0, float}\n",
      "        Luminosity distance to the binary (in Mpc).\n",
      "    coa_phase : {0.0, float}\n",
      "        Coalesence phase of the binary (in rad).\n",
      "    inclination : {0.0, float}\n",
      "        Inclination (rad), defined as the angle between the total angular momentum J and the line-of-sight.\n",
      "    long_asc_nodes : {0.0, float}\n",
      "        Longitude of ascending nodes axis (rad).\n",
      "    mean_per_ano : {0.0, float}\n",
      "        Mean anomaly of the periastron (rad).\n",
      "    delta_t : {None, float}\n",
      "        The time step used to generate the waveform (in s).\n",
      "    f_lower : {None, float}\n",
      "        The starting frequency of the waveform (in Hz).\n",
      "    approximant : {None, str}\n",
      "        A string that indicates the chosen approximant.\n",
      "    f_ref : {0, float}\n",
      "        The reference frequency.\n",
      "    phase_order : {-1, int}\n",
      "        The pN order of the orbital phase. The default of -1 indicates that all implemented orders are used.\n",
      "    spin_order : {-1, int}\n",
      "        The pN order of the spin corrections. The default of -1 indicates that all implemented orders are used.\n",
      "    tidal_order : {-1, int}\n",
      "        The pN order of the tidal corrections. The default of -1 indicates that all implemented orders are used.\n",
      "    amplitude_order : {-1, int}\n",
      "        The pN order of the amplitude. The default of -1 indicates that all implemented orders are used.\n",
      "    eccentricity_order : {-1, int}\n",
      "        The pN order of the eccentricity corrections.The default of -1 indicates that all implemented orders are used.\n",
      "    frame_axis : {0, int}\n",
      "        Allow to choose among orbital_l, view and total_j\n",
      "    modes_choice : {0, int}\n",
      "        Allow to turn on  among orbital_l, view and total_j\n",
      "    side_bands : {0, int}\n",
      "        Flag for generating sidebands\n",
      "    mode_array : {0, int}\n",
      "        Choose which (l,m) modes to include when generating a waveform. Only if approximant supports this feature.By default pass None and let lalsimulation use it's default behaviour.Example: mode_array = [ [2,2], [2,-2] ]\n",
      "    numrel_data : {, str}\n",
      "        Sets the NR flags; only needed for NR waveforms.\n",
      "    frame_axis : {0, int}\n",
      "        Allow to choose among orbital_l, view and total_j\n",
      "    modes_choice : {0, int}\n",
      "        Allow to turn on  among orbital_l, view and total_j\n",
      "    side_bands : {0, int}\n",
      "        Flag for generating sidebands\n",
      "    mode_array : {0, int}\n",
      "        Choose which (l,m) modes to include when generating a waveform. Only if approximant supports this feature.By default pass None and let lalsimulation use it's default behaviour.Example: mode_array = [ [2,2], [2,-2] ]\n",
      "    \n",
      "    Returns\n",
      "    -------\n",
      "    hplus: TimeSeries\n",
      "        The plus polarization of the waveform.\n",
      "    hcross: TimeSeries\n",
      "        The cross polarization of the waveform.\n",
      "\n"
     ]
    }
   ],
   "source": [
    "help(get_td_waveform)"
   ]
  },
  {
   "cell_type": "code",
   "execution_count": 47,
   "metadata": {},
   "outputs": [
    {
     "name": "stderr",
     "output_type": "stream",
     "text": [
      "/home/nbuser/anaconda2_501/lib/python2.7/site-packages/matplotlib/font_manager.py:279: UserWarning: Matplotlib is building the font cache using fc-list. This may take a moment.\n",
      "  'Matplotlib is building the font cache using fc-list. '\n"
     ]
    }
   ],
   "source": [
    "import matplotlib.pyplot as plot"
   ]
  },
  {
   "cell_type": "code",
   "execution_count": 121,
   "metadata": {},
   "outputs": [
    {
     "data": {
      "text/plain": [
       "<matplotlib.legend.Legend at 0x7f9114ac7710>"
      ]
     },
     "execution_count": 121,
     "metadata": {},
     "output_type": "execute_result"
    },
    {
     "data": {
      "image/png": "[encoded data removed]",
      "text/plain": [
       "<matplotlib.figure.Figure at 0x7f9115eed990>"
      ]
     },
     "metadata": {},
     "output_type": "display_data"
    }
   ],
   "source": [
    "i=0\n",
    "for d in wfs:\n",
    "    if 'hp' in wfs[d]:\n",
    "        plot.plot(wfs[d]['data']['t'],i*200+wfs[d]['data']['hp']*1e23,label=d)\n",
    "        i+=1\n",
    "plot.legend()"
   ]
  },
  {
   "cell_type": "code",
   "execution_count": 73,
   "metadata": {},
   "outputs": [],
   "source": [
    "for d in wfs:\n",
    "    if 'data' in wfs[d]:\n",
    "        wfs[d]['data'].write('waveform_{}.csv'.format(d),format='ascii.csv',overwrite=True)"
   ]
  },
  {
   "cell_type": "code",
   "execution_count": 123,
   "metadata": {},
   "outputs": [],
   "source": [
    "for d in wfs:\n",
    "    if 'data' in wfs[d]:\n",
    "        hp=wfs[d]['data']['hp']\n",
    "        t=wfs[d]['data']['t']\n",
    "        hp2=np.where(np.abs(hp)<1e-24,0,hp*1e23)\n",
    "        wfs[d]['data2']=Table([t,hp2],names=['t','strain*1e23'])\n",
    "        for l in range(len(wfs[d]['data2'])):\n",
    "            wfs[d]['data2'][l]['t']=round(wfs[d]['data2'][l]['t'],5)\n",
    "            wfs[d]['data2'][l]['strain*1e23']=round(wfs[d]['data2'][l]['strain*1e23'],1)\n",
    "#         wfs[d]['data2'].write('reduced/waveform_{}_reduced.csv'.format(d),format='ascii.csv',overwrite=True)\n",
    "        wfs[d]['data2'].write('compressed/waveform_{}_compress.txt'.format(d),format='ascii.basic',delimiter=\" \",overwrite=True)"
   ]
  },
  {
   "cell_type": "code",
   "execution_count": 129,
   "metadata": {},
   "outputs": [
    {
     "data": {
      "text/plain": [
       "(-0.01, 0)"
      ]
     },
     "execution_count": 129,
     "metadata": {},
     "output_type": "execute_result"
    },
    {
     "data": {
      "image/png": "[encoded data removed]",
      "text/plain": [
       "<matplotlib.figure.Figure at 0x7f911539bdd0>"
      ]
     },
     "metadata": {},
     "output_type": "display_data"
    }
   ],
   "source": [
    "i=0\n",
    "for d in wfs:\n",
    "#     if 'hp' in wfs[d] and d!=\"GW170817\":\n",
    "        plot.plot(wfs[d]['data2']['t'],i*200+wfs[d]['data2']['strain*1e23'],label=d)\n",
    "        i+=1\n",
    "plot.legend()\n",
    "plot.xlim(-0.01,0)"
   ]
  },
  {
   "cell_type": "code",
   "execution_count": 99,
   "metadata": {},
   "outputs": [
    {
     "data": {
      "text/html": [
       "&lt;Table length=7866&gt;\n",
       "<table id=\"table140261110460816\" class=\"table-striped table-bordered table-condensed\">\n",
       "<thead><tr><th>t</th><th>hp</th></tr></thead>\n",
       "<thead><tr><th>float64</th><th>float64</th></tr></thead>\n",
       "<tr><td>-1.8793</td><td>-9.4</td></tr>\n",
       "<tr><td>-1.87906</td><td>-9.3</td></tr>\n",
       "<tr><td>-1.87881</td><td>-9.2</td></tr>\n",
       "<tr><td>-1.87857</td><td>-9.1</td></tr>\n",
       "<tr><td>-1.87832</td><td>-9.0</td></tr>\n",
       "<tr><td>-1.87808</td><td>-8.8</td></tr>\n",
       "<tr><td>-1.87784</td><td>-8.6</td></tr>\n",
       "<tr><td>-1.87759</td><td>-8.5</td></tr>\n",
       "<tr><td>-1.87735</td><td>-8.3</td></tr>\n",
       "<tr><td>-1.8771</td><td>-8.0</td></tr>\n",
       "<tr><td>...</td><td>...</td></tr>\n",
       "<tr><td>0.03867</td><td>0.0</td></tr>\n",
       "<tr><td>0.03891</td><td>0.0</td></tr>\n",
       "<tr><td>0.03916</td><td>0.0</td></tr>\n",
       "<tr><td>0.0394</td><td>0.0</td></tr>\n",
       "<tr><td>0.03964</td><td>0.0</td></tr>\n",
       "<tr><td>0.03989</td><td>0.0</td></tr>\n",
       "<tr><td>0.04013</td><td>0.0</td></tr>\n",
       "<tr><td>0.04038</td><td>0.0</td></tr>\n",
       "<tr><td>0.04062</td><td>0.0</td></tr>\n",
       "<tr><td>0.04086</td><td>0.0</td></tr>\n",
       "</table>"
      ],
      "text/plain": [
       "<Table length=7866>\n",
       "   t        hp  \n",
       "float64  float64\n",
       "-------- -------\n",
       " -1.8793    -9.4\n",
       "-1.87906    -9.3\n",
       "-1.87881    -9.2\n",
       "-1.87857    -9.1\n",
       "-1.87832    -9.0\n",
       "-1.87808    -8.8\n",
       "-1.87784    -8.6\n",
       "-1.87759    -8.5\n",
       "-1.87735    -8.3\n",
       " -1.8771    -8.0\n",
       "     ...     ...\n",
       " 0.03867     0.0\n",
       " 0.03891     0.0\n",
       " 0.03916     0.0\n",
       "  0.0394     0.0\n",
       " 0.03964     0.0\n",
       " 0.03989     0.0\n",
       " 0.04013     0.0\n",
       " 0.04038     0.0\n",
       " 0.04062     0.0\n",
       " 0.04086     0.0"
      ]
     },
     "execution_count": 99,
     "metadata": {},
     "output_type": "execute_result"
    }
   ],
   "source": [
    "wfs[d]['data2']"
   ]
  },
  {
   "cell_type": "code",
   "execution_count": 81,
   "metadata": {},
   "outputs": [
    {
     "data": {
      "text/plain": [
       "5.5"
      ]
     },
     "execution_count": 81,
     "metadata": {},
     "output_type": "execute_result"
    }
   ],
   "source": [
    "round(5.46,1)"
   ]
  },
  {
   "cell_type": "code",
   "execution_count": 107,
   "metadata": {},
   "outputs": [],
   "source": [
    "!mkdir compressed"
   ]
  },
  {
   "cell_type": "code",
   "execution_count": 119,
   "metadata": {},
   "outputs": [],
   "source": [
    "hp,hc = get_td_waveform(approximant=\"SEOBNRv3_opt_rk4\",\n",
    "                         mass1=1.48,\n",
    "                         mass2=1.265,\n",
    "                         delta_t=1./4096,\n",
    "                         f_lower=30,\n",
    "                         distance=40.)"
   ]
  },
  {
   "cell_type": "code",
   "execution_count": 112,
   "metadata": {},
   "outputs": [
    {
     "data": {
      "text/plain": [
       "['TaylorF2',\n",
       " 'TaylorEt',\n",
       " 'SEOBNRv3_opt',\n",
       " 'IMRPhenomA',\n",
       " 'IMRPhenomC',\n",
       " 'IMRPhenomB',\n",
       " 'EOBNRv2',\n",
       " 'NRSur7dq2',\n",
       " 'SEOBNRv2_ROM_DoubleSpin',\n",
       " 'SEOBNRv2_ROM_EffectiveSpin',\n",
       " 'SpinTaylorF2',\n",
       " 'SpinTaylorF2_SWAPPER',\n",
       " 'SEOBNRv2_ROM_DoubleSpin_HI',\n",
       " 'EOBNRv2_ROM',\n",
       " 'SEOBNRv1_ROM_EffectiveSpin',\n",
       " 'SEOBNRv1_ROM_DoubleSpin',\n",
       " 'SEOBNRv4_opt',\n",
       " 'TaylorF2NL',\n",
       " 'PhenSpinTaylor',\n",
       " 'PhenSpinTaylorRD',\n",
       " 'NR_hdf5',\n",
       " 'TEOBResum_ROM',\n",
       " 'SEOBNRv4_ROM',\n",
       " 'SEOBNRv3_pert',\n",
       " 'EOBNRv2HM',\n",
       " 'SpinTaylorT4',\n",
       " 'TaylorT1',\n",
       " 'EOBNRv2HM_ROM',\n",
       " 'TaylorT3',\n",
       " 'TaylorT2',\n",
       " 'HGimri',\n",
       " 'TaylorT4',\n",
       " 'IMRPhenomD',\n",
       " 'IMRPhenomPv2',\n",
       " 'SEOBNRv4T',\n",
       " 'SEOBNRv2T',\n",
       " 'SEOBNRv1',\n",
       " 'SpinDominatedWf',\n",
       " 'SEOBNRv3',\n",
       " 'SEOBNRv2',\n",
       " 'SpinTaylorT1',\n",
       " 'SEOBNRv4',\n",
       " 'SpinTaylorT2',\n",
       " 'EccentricTD',\n",
       " 'SEOBNRv2_opt',\n",
       " 'SEOBNRv3_opt_rk4']"
      ]
     },
     "execution_count": 112,
     "metadata": {},
     "output_type": "execute_result"
    }
   ],
   "source": [
    "from pycbc.waveform import td_approximants, fd_approximants\n",
    "td_approximants()"
   ]
  },
  {
   "cell_type": "code",
   "execution_count": null,
   "metadata": {},
   "outputs": [],
   "source": []
  }
 ],
 "metadata": {
  "kernelspec": {
   "display_name": "Python 2",
   "language": "python",
   "name": "python2"
  },
  "language_info": {
   "codemirror_mode": {
    "name": "ipython",
    "version": 2
   },
   "file_extension": ".py",
   "mimetype": "text/x-python",
   "name": "python",
   "nbconvert_exporter": "python",
   "pygments_lexer": "ipython2",
   "version": "2.7.14"
  }
 },
 "nbformat": 4,
 "nbformat_minor": 2
}
